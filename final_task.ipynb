{
  "cells": [
    {
      "cell_type": "markdown",
      "metadata": {},
      "source": [
        "# Data Preparation"
      ]
    },
    {
      "cell_type": "markdown",
      "metadata": {},
      "source": [
        "## Load Data"
      ]
    },
    {
      "cell_type": "code",
      "execution_count": 661,
      "metadata": {},
      "outputs": [],
      "source": [
        "import pandas as pd\n",
        "import numpy as np"
      ]
    },
    {
      "cell_type": "code",
      "execution_count": 662,
      "metadata": {},
      "outputs": [],
      "source": [
        "def read_data(fname: str):\n",
        "  file = './datasets/'+fname\n",
        "  data = pd.read_csv(file,  sep = ';')\n",
        "\n",
        "  print('Data shape raw: '+ str(data.shape))\n",
        "\n",
        "  duplicates = data.duplicated(keep=\"first\", subset=[\"id\"])\n",
        "  print('Number of duplicate id: '+ str(duplicates.sum()))\n",
        "\n",
        "  data = data.drop_duplicates(keep=\"first\", subset=[\"id\"])\n",
        "  print('Data shape after dropping: '+ str(data.shape))\n",
        "\n",
        "  data = data.set_index('id')\n",
        "  print('Data shape final: '+ str(data.shape))\n",
        "\n",
        "  return data"
      ]
    },
    {
      "cell_type": "code",
      "execution_count": 663,
      "metadata": {},
      "outputs": [
        {
          "name": "stdout",
          "output_type": "stream",
          "text": [
            "Data shape raw: (44555, 12)\n",
            "Number of duplicate id: 3571\n",
            "Data shape after dropping: (40984, 12)\n",
            "Data shape final: (40984, 11)\n"
          ]
        }
      ],
      "source": [
        "data = read_data(fname='final_task.csv')"
      ]
    },
    {
      "cell_type": "code",
      "execution_count": 730,
      "metadata": {},
      "outputs": [
        {
          "data": {
            "text/html": [
              "<div>\n",
              "<style scoped>\n",
              "    .dataframe tbody tr th:only-of-type {\n",
              "        vertical-align: middle;\n",
              "    }\n",
              "\n",
              "    .dataframe tbody tr th {\n",
              "        vertical-align: top;\n",
              "    }\n",
              "\n",
              "    .dataframe thead th {\n",
              "        text-align: right;\n",
              "    }\n",
              "</style>\n",
              "<table border=\"1\" class=\"dataframe\">\n",
              "  <thead>\n",
              "    <tr style=\"text-align: right;\">\n",
              "      <th></th>\n",
              "      <th>match_percentage</th>\n",
              "      <th>dob</th>\n",
              "      <th>gender</th>\n",
              "      <th>experience</th>\n",
              "      <th>gpa</th>\n",
              "      <th>marital_status_id</th>\n",
              "      <th>educ_id</th>\n",
              "      <th>fresh_graduate</th>\n",
              "      <th>expected_salary</th>\n",
              "      <th>registered_from</th>\n",
              "      <th>is_hired</th>\n",
              "      <th>dob_converted</th>\n",
              "    </tr>\n",
              "    <tr>\n",
              "      <th>id</th>\n",
              "      <th></th>\n",
              "      <th></th>\n",
              "      <th></th>\n",
              "      <th></th>\n",
              "      <th></th>\n",
              "      <th></th>\n",
              "      <th></th>\n",
              "      <th></th>\n",
              "      <th></th>\n",
              "      <th></th>\n",
              "      <th></th>\n",
              "      <th></th>\n",
              "    </tr>\n",
              "  </thead>\n",
              "  <tbody>\n",
              "    <tr>\n",
              "      <th>2506320329821</th>\n",
              "      <td>0.0</td>\n",
              "      <td>01/12/1991</td>\n",
              "      <td>Male</td>\n",
              "      <td>0.0</td>\n",
              "      <td>0.0</td>\n",
              "      <td>3.0</td>\n",
              "      <td>0.0</td>\n",
              "      <td>1.0</td>\n",
              "      <td>5000000.0</td>\n",
              "      <td>jobseeker.app</td>\n",
              "      <td>0</td>\n",
              "      <td>1991-12-01</td>\n",
              "    </tr>\n",
              "    <tr>\n",
              "      <th>2506320329816</th>\n",
              "      <td>0.0</td>\n",
              "      <td>01/12/1991</td>\n",
              "      <td>Male</td>\n",
              "      <td>0.0</td>\n",
              "      <td>0.0</td>\n",
              "      <td>3.0</td>\n",
              "      <td>0.0</td>\n",
              "      <td>1.0</td>\n",
              "      <td>5000000.0</td>\n",
              "      <td>jobseeker.app</td>\n",
              "      <td>0</td>\n",
              "      <td>1991-12-01</td>\n",
              "    </tr>\n",
              "    <tr>\n",
              "      <th>2506452329816</th>\n",
              "      <td>25.0</td>\n",
              "      <td>16/11/1994</td>\n",
              "      <td>Female</td>\n",
              "      <td>1.0</td>\n",
              "      <td>0.0</td>\n",
              "      <td>0.0</td>\n",
              "      <td>18.0</td>\n",
              "      <td>0.0</td>\n",
              "      <td>0.0</td>\n",
              "      <td>jobseeker.app</td>\n",
              "      <td>0</td>\n",
              "      <td>1994-11-16</td>\n",
              "    </tr>\n",
              "    <tr>\n",
              "      <th>2506430329869</th>\n",
              "      <td>67.0</td>\n",
              "      <td>29/11/1995</td>\n",
              "      <td>Female</td>\n",
              "      <td>1.0</td>\n",
              "      <td>0.0</td>\n",
              "      <td>1.0</td>\n",
              "      <td>22.0</td>\n",
              "      <td>0.0</td>\n",
              "      <td>0.0</td>\n",
              "      <td>jobseeker.app</td>\n",
              "      <td>0</td>\n",
              "      <td>1995-11-29</td>\n",
              "    </tr>\n",
              "    <tr>\n",
              "      <th>2506653329842</th>\n",
              "      <td>13.0</td>\n",
              "      <td>27/10/1999</td>\n",
              "      <td>Female</td>\n",
              "      <td>2.0</td>\n",
              "      <td>0.0</td>\n",
              "      <td>1.0</td>\n",
              "      <td>22.0</td>\n",
              "      <td>0.0</td>\n",
              "      <td>4500000.0</td>\n",
              "      <td>jobseeker.app</td>\n",
              "      <td>0</td>\n",
              "      <td>1999-10-27</td>\n",
              "    </tr>\n",
              "  </tbody>\n",
              "</table>\n",
              "</div>"
            ],
            "text/plain": [
              "               match_percentage         dob  gender  experience  gpa  \\\n",
              "id                                                                     \n",
              "2506320329821               0.0  01/12/1991    Male         0.0  0.0   \n",
              "2506320329816               0.0  01/12/1991    Male         0.0  0.0   \n",
              "2506452329816              25.0  16/11/1994  Female         1.0  0.0   \n",
              "2506430329869              67.0  29/11/1995  Female         1.0  0.0   \n",
              "2506653329842              13.0  27/10/1999  Female         2.0  0.0   \n",
              "\n",
              "               marital_status_id  educ_id  fresh_graduate  expected_salary  \\\n",
              "id                                                                           \n",
              "2506320329821                3.0      0.0             1.0        5000000.0   \n",
              "2506320329816                3.0      0.0             1.0        5000000.0   \n",
              "2506452329816                0.0     18.0             0.0              0.0   \n",
              "2506430329869                1.0     22.0             0.0              0.0   \n",
              "2506653329842                1.0     22.0             0.0        4500000.0   \n",
              "\n",
              "              registered_from  is_hired dob_converted  \n",
              "id                                                     \n",
              "2506320329821   jobseeker.app         0    1991-12-01  \n",
              "2506320329816   jobseeker.app         0    1991-12-01  \n",
              "2506452329816   jobseeker.app         0    1994-11-16  \n",
              "2506430329869   jobseeker.app         0    1995-11-29  \n",
              "2506653329842   jobseeker.app         0    1999-10-27  "
            ]
          },
          "execution_count": 730,
          "metadata": {},
          "output_type": "execute_result"
        }
      ],
      "source": [
        "data.head()"
      ]
    },
    {
      "cell_type": "markdown",
      "metadata": {},
      "source": [
        "## Perform EDA"
      ]
    },
    {
      "cell_type": "code",
      "execution_count": 664,
      "metadata": {},
      "outputs": [],
      "source": [
        "from datetime import datetime\n",
        "\n",
        "def prepare_dob(data: pd.DataFrame):\n",
        "    data['dob_converted'] = pd.to_datetime(data['dob'], format='%d/%m/%Y', errors='coerce')\n",
        "    dropped = data.drop(data[data['dob_converted'].isna()].index)\n",
        "\n",
        "    current_date = pd.to_datetime(datetime.now().date())\n",
        "    dropped['age'] = ((current_date - dropped['dob_converted']).dt.days / 365).astype(int)\n",
        "\n",
        "    dropped = dropped.drop(columns=['dob', 'dob_converted'])\n",
        "    return dropped\n"
      ]
    },
    {
      "cell_type": "code",
      "execution_count": 665,
      "metadata": {},
      "outputs": [],
      "source": [
        "\n",
        "def drop_anomalies(data: pd.DataFrame):\n",
        "    dropped_ids = []\n",
        "    \n",
        "    dropped_ids += data.index[data['experience'] < 0].tolist()\n",
        "    print(len(dropped_ids))\n",
        "    dropped_ids += data.index[data['experience'] > 30].tolist()\n",
        "    print(len(dropped_ids))\n",
        "    dropped_ids += data.index[data['age'] < 18].tolist()\n",
        "    print(len(dropped_ids))\n",
        "    dropped_ids += data.index[data['expected_salary'] > 50_000_000].tolist()\n",
        "    print(len(dropped_ids))\n",
        "    \n",
        "    dropped_ids += data.index[data['gpa'] > 99].tolist()\n",
        "    print(len(dropped_ids))\n",
        "    # assume the candidate graduate from SMA or S1 so nothing value from 4 < gpa < 70\n",
        "    dropped_ids += data.index[(data['gpa'] > 4) & (data['gpa'] < 70)].tolist()\n",
        "    print(len(dropped_ids))\n",
        "\n",
        "    dropped_anomalies = data.drop(dropped_ids)\n",
        "    return dropped_anomalies\n"
      ]
    },
    {
      "cell_type": "code",
      "execution_count": 666,
      "metadata": {},
      "outputs": [],
      "source": [
        "def update_educ_id(data: pd.DataFrame):\n",
        "    if data['educ_id'] < 10 or pd.isna(data['educ_id']):\n",
        "        if data['gpa'] <= 4:\n",
        "            return 31\n",
        "        elif data['gpa'] > 4:\n",
        "            return 12\n",
        "    return data['educ_id']\n",
        "\n",
        "# change gpa > 70 to 4 format\n",
        "def reformat_gpa(data: pd.DataFrame):\n",
        "    data.loc[data['gpa'] > 4, 'gpa'] /= 25\n",
        "    data['educ_id'] = data.apply(update_educ_id, axis=1)\n",
        "    \n",
        "    return data"
      ]
    },
    {
      "cell_type": "code",
      "execution_count": 667,
      "metadata": {},
      "outputs": [],
      "source": [
        "def fill_empty_registered(data: pd.DataFrame):\n",
        "    data.loc[data['registered_from'].isna(), 'registered_from'] = 'unknown'\n",
        "\n",
        "    return data"
      ]
    },
    {
      "cell_type": "code",
      "execution_count": 668,
      "metadata": {},
      "outputs": [],
      "source": [
        "def fill_non_string_expected(data: pd.DataFrame):\n",
        "    data['expected_salary'] = pd.to_numeric(data['expected_salary'], errors='coerce')\n",
        "    \n",
        "    return data"
      ]
    },
    {
      "cell_type": "code",
      "execution_count": 669,
      "metadata": {},
      "outputs": [],
      "source": [
        "def fill_zero_marital(data: pd.DataFrame):\n",
        "    data.loc[data['marital_status_id'] == 0, 'marital_status_id'] = 1\n",
        "    \n",
        "    return data"
      ]
    },
    {
      "cell_type": "code",
      "execution_count": 670,
      "metadata": {},
      "outputs": [],
      "source": [
        "def preprocess_data(data: pd.DataFrame):\n",
        "    print('Data before preprocessing: ', str(data.shape))\n",
        "\n",
        "    filled_expected = fill_non_string_expected(data=data)\n",
        "    prepared_dob = prepare_dob(data=filled_expected)\n",
        "    dropped_anomalies = drop_anomalies(data=prepared_dob)\n",
        "    reformated_gpa = reformat_gpa(data=dropped_anomalies)\n",
        "    filled_registered = fill_empty_registered(data=reformated_gpa)\n",
        "    filled_zero_marital = fill_zero_marital(data=filled_registered)\n",
        "\n",
        "    print('Data after preprocessing: ', str(filled_zero_marital.shape))\n",
        "    return filled_registered"
      ]
    },
    {
      "cell_type": "code",
      "execution_count": 671,
      "metadata": {},
      "outputs": [
        {
          "data": {
            "text/html": [
              "<div>\n",
              "<style scoped>\n",
              "    .dataframe tbody tr th:only-of-type {\n",
              "        vertical-align: middle;\n",
              "    }\n",
              "\n",
              "    .dataframe tbody tr th {\n",
              "        vertical-align: top;\n",
              "    }\n",
              "\n",
              "    .dataframe thead th {\n",
              "        text-align: right;\n",
              "    }\n",
              "</style>\n",
              "<table border=\"1\" class=\"dataframe\">\n",
              "  <thead>\n",
              "    <tr style=\"text-align: right;\">\n",
              "      <th></th>\n",
              "      <th>match_percentage</th>\n",
              "      <th>experience</th>\n",
              "      <th>gpa</th>\n",
              "      <th>marital_status_id</th>\n",
              "      <th>educ_id</th>\n",
              "      <th>fresh_graduate</th>\n",
              "      <th>is_hired</th>\n",
              "    </tr>\n",
              "  </thead>\n",
              "  <tbody>\n",
              "    <tr>\n",
              "      <th>count</th>\n",
              "      <td>40853.000000</td>\n",
              "      <td>40847.000000</td>\n",
              "      <td>40847.000000</td>\n",
              "      <td>40847.000000</td>\n",
              "      <td>40847.000000</td>\n",
              "      <td>40848.000000</td>\n",
              "      <td>40984.000000</td>\n",
              "    </tr>\n",
              "    <tr>\n",
              "      <th>mean</th>\n",
              "      <td>73.343965</td>\n",
              "      <td>1.464465</td>\n",
              "      <td>2.087440</td>\n",
              "      <td>1.360932</td>\n",
              "      <td>1.768600</td>\n",
              "      <td>0.612099</td>\n",
              "      <td>0.013273</td>\n",
              "    </tr>\n",
              "    <tr>\n",
              "      <th>std</th>\n",
              "      <td>27.666717</td>\n",
              "      <td>3.513909</td>\n",
              "      <td>111.284048</td>\n",
              "      <td>0.839983</td>\n",
              "      <td>6.507828</td>\n",
              "      <td>0.487278</td>\n",
              "      <td>0.114445</td>\n",
              "    </tr>\n",
              "    <tr>\n",
              "      <th>min</th>\n",
              "      <td>0.000000</td>\n",
              "      <td>-75.000000</td>\n",
              "      <td>0.000000</td>\n",
              "      <td>0.000000</td>\n",
              "      <td>0.000000</td>\n",
              "      <td>0.000000</td>\n",
              "      <td>0.000000</td>\n",
              "    </tr>\n",
              "    <tr>\n",
              "      <th>25%</th>\n",
              "      <td>50.000000</td>\n",
              "      <td>0.000000</td>\n",
              "      <td>0.000000</td>\n",
              "      <td>1.000000</td>\n",
              "      <td>0.000000</td>\n",
              "      <td>0.000000</td>\n",
              "      <td>0.000000</td>\n",
              "    </tr>\n",
              "    <tr>\n",
              "      <th>50%</th>\n",
              "      <td>83.000000</td>\n",
              "      <td>1.000000</td>\n",
              "      <td>0.000000</td>\n",
              "      <td>1.000000</td>\n",
              "      <td>0.000000</td>\n",
              "      <td>1.000000</td>\n",
              "      <td>0.000000</td>\n",
              "    </tr>\n",
              "    <tr>\n",
              "      <th>75%</th>\n",
              "      <td>100.000000</td>\n",
              "      <td>2.000000</td>\n",
              "      <td>0.000000</td>\n",
              "      <td>1.000000</td>\n",
              "      <td>0.000000</td>\n",
              "      <td>1.000000</td>\n",
              "      <td>0.000000</td>\n",
              "    </tr>\n",
              "    <tr>\n",
              "      <th>max</th>\n",
              "      <td>100.000000</td>\n",
              "      <td>169.000000</td>\n",
              "      <td>9999.000000</td>\n",
              "      <td>7.000000</td>\n",
              "      <td>71.000000</td>\n",
              "      <td>1.000000</td>\n",
              "      <td>1.000000</td>\n",
              "    </tr>\n",
              "  </tbody>\n",
              "</table>\n",
              "</div>"
            ],
            "text/plain": [
              "       match_percentage    experience           gpa  marital_status_id  \\\n",
              "count      40853.000000  40847.000000  40847.000000       40847.000000   \n",
              "mean          73.343965      1.464465      2.087440           1.360932   \n",
              "std           27.666717      3.513909    111.284048           0.839983   \n",
              "min            0.000000    -75.000000      0.000000           0.000000   \n",
              "25%           50.000000      0.000000      0.000000           1.000000   \n",
              "50%           83.000000      1.000000      0.000000           1.000000   \n",
              "75%          100.000000      2.000000      0.000000           1.000000   \n",
              "max          100.000000    169.000000   9999.000000           7.000000   \n",
              "\n",
              "            educ_id  fresh_graduate      is_hired  \n",
              "count  40847.000000    40848.000000  40984.000000  \n",
              "mean       1.768600        0.612099      0.013273  \n",
              "std        6.507828        0.487278      0.114445  \n",
              "min        0.000000        0.000000      0.000000  \n",
              "25%        0.000000        0.000000      0.000000  \n",
              "50%        0.000000        1.000000      0.000000  \n",
              "75%        0.000000        1.000000      0.000000  \n",
              "max       71.000000        1.000000      1.000000  "
            ]
          },
          "execution_count": 671,
          "metadata": {},
          "output_type": "execute_result"
        }
      ],
      "source": [
        "data.describe()"
      ]
    },
    {
      "cell_type": "code",
      "execution_count": 672,
      "metadata": {},
      "outputs": [
        {
          "data": {
            "text/plain": [
              "match_percentage     0.319637\n",
              "dob                  0.331837\n",
              "gender               0.495315\n",
              "experience           0.334277\n",
              "gpa                  0.334277\n",
              "marital_status_id    0.334277\n",
              "educ_id              0.334277\n",
              "fresh_graduate       0.331837\n",
              "expected_salary      6.846574\n",
              "registered_from      2.574175\n",
              "is_hired             0.000000\n",
              "dtype: float64"
            ]
          },
          "execution_count": 672,
          "metadata": {},
          "output_type": "execute_result"
        }
      ],
      "source": [
        "100 * (data.isna().sum(0) / len(data))"
      ]
    },
    {
      "cell_type": "code",
      "execution_count": 673,
      "metadata": {},
      "outputs": [
        {
          "name": "stdout",
          "output_type": "stream",
          "text": [
            "Data before preprocessing:  (40984, 11)\n",
            "25\n",
            "82\n",
            "100\n",
            "164\n",
            "215\n",
            "429\n",
            "Data after preprocessing:  (40308, 11)\n"
          ]
        },
        {
          "data": {
            "text/plain": [
              "match_percentage     0.000000\n",
              "gender               0.000000\n",
              "experience           0.000000\n",
              "gpa                  0.000000\n",
              "marital_status_id    0.000000\n",
              "educ_id              0.000000\n",
              "fresh_graduate       0.000000\n",
              "expected_salary      6.606629\n",
              "registered_from      0.000000\n",
              "is_hired             0.000000\n",
              "age                  0.000000\n",
              "dtype: float64"
            ]
          },
          "execution_count": 673,
          "metadata": {},
          "output_type": "execute_result"
        }
      ],
      "source": [
        "cleaned_data = preprocess_data(data=data)\n",
        "100 * (cleaned_data.isna().sum(0) / len(cleaned_data))"
      ]
    },
    {
      "cell_type": "code",
      "execution_count": 674,
      "metadata": {},
      "outputs": [
        {
          "data": {
            "text/html": [
              "<div>\n",
              "<style scoped>\n",
              "    .dataframe tbody tr th:only-of-type {\n",
              "        vertical-align: middle;\n",
              "    }\n",
              "\n",
              "    .dataframe tbody tr th {\n",
              "        vertical-align: top;\n",
              "    }\n",
              "\n",
              "    .dataframe thead th {\n",
              "        text-align: right;\n",
              "    }\n",
              "</style>\n",
              "<table border=\"1\" class=\"dataframe\">\n",
              "  <thead>\n",
              "    <tr style=\"text-align: right;\">\n",
              "      <th></th>\n",
              "      <th>match_percentage</th>\n",
              "      <th>experience</th>\n",
              "      <th>gpa</th>\n",
              "      <th>marital_status_id</th>\n",
              "      <th>educ_id</th>\n",
              "      <th>fresh_graduate</th>\n",
              "      <th>expected_salary</th>\n",
              "      <th>is_hired</th>\n",
              "      <th>age</th>\n",
              "    </tr>\n",
              "  </thead>\n",
              "  <tbody>\n",
              "    <tr>\n",
              "      <th>count</th>\n",
              "      <td>40308.000000</td>\n",
              "      <td>40308.000000</td>\n",
              "      <td>40308.000000</td>\n",
              "      <td>40308.000000</td>\n",
              "      <td>40308.000000</td>\n",
              "      <td>40308.000000</td>\n",
              "      <td>3.764500e+04</td>\n",
              "      <td>40308.000000</td>\n",
              "      <td>40308.000000</td>\n",
              "    </tr>\n",
              "    <tr>\n",
              "      <th>mean</th>\n",
              "      <td>73.713953</td>\n",
              "      <td>1.408678</td>\n",
              "      <td>0.258458</td>\n",
              "      <td>1.366701</td>\n",
              "      <td>30.512628</td>\n",
              "      <td>0.613501</td>\n",
              "      <td>5.203101e+06</td>\n",
              "      <td>0.013446</td>\n",
              "      <td>25.717500</td>\n",
              "    </tr>\n",
              "    <tr>\n",
              "      <th>std</th>\n",
              "      <td>27.376497</td>\n",
              "      <td>2.274405</td>\n",
              "      <td>0.901769</td>\n",
              "      <td>0.827924</td>\n",
              "      <td>2.661866</td>\n",
              "      <td>0.486953</td>\n",
              "      <td>3.124634e+06</td>\n",
              "      <td>0.115178</td>\n",
              "      <td>3.797744</td>\n",
              "    </tr>\n",
              "    <tr>\n",
              "      <th>min</th>\n",
              "      <td>0.000000</td>\n",
              "      <td>0.000000</td>\n",
              "      <td>0.000000</td>\n",
              "      <td>1.000000</td>\n",
              "      <td>10.000000</td>\n",
              "      <td>0.000000</td>\n",
              "      <td>0.000000e+00</td>\n",
              "      <td>0.000000</td>\n",
              "      <td>18.000000</td>\n",
              "    </tr>\n",
              "    <tr>\n",
              "      <th>25%</th>\n",
              "      <td>50.000000</td>\n",
              "      <td>0.000000</td>\n",
              "      <td>0.000000</td>\n",
              "      <td>1.000000</td>\n",
              "      <td>31.000000</td>\n",
              "      <td>0.000000</td>\n",
              "      <td>4.000000e+06</td>\n",
              "      <td>0.000000</td>\n",
              "      <td>23.000000</td>\n",
              "    </tr>\n",
              "    <tr>\n",
              "      <th>50%</th>\n",
              "      <td>83.000000</td>\n",
              "      <td>1.000000</td>\n",
              "      <td>0.000000</td>\n",
              "      <td>1.000000</td>\n",
              "      <td>31.000000</td>\n",
              "      <td>1.000000</td>\n",
              "      <td>5.000000e+06</td>\n",
              "      <td>0.000000</td>\n",
              "      <td>25.000000</td>\n",
              "    </tr>\n",
              "    <tr>\n",
              "      <th>75%</th>\n",
              "      <td>100.000000</td>\n",
              "      <td>2.000000</td>\n",
              "      <td>0.000000</td>\n",
              "      <td>1.000000</td>\n",
              "      <td>31.000000</td>\n",
              "      <td>1.000000</td>\n",
              "      <td>5.500000e+06</td>\n",
              "      <td>0.000000</td>\n",
              "      <td>27.000000</td>\n",
              "    </tr>\n",
              "    <tr>\n",
              "      <th>max</th>\n",
              "      <td>100.000000</td>\n",
              "      <td>30.000000</td>\n",
              "      <td>3.970000</td>\n",
              "      <td>7.000000</td>\n",
              "      <td>71.000000</td>\n",
              "      <td>1.000000</td>\n",
              "      <td>5.000000e+07</td>\n",
              "      <td>1.000000</td>\n",
              "      <td>62.000000</td>\n",
              "    </tr>\n",
              "  </tbody>\n",
              "</table>\n",
              "</div>"
            ],
            "text/plain": [
              "       match_percentage    experience           gpa  marital_status_id  \\\n",
              "count      40308.000000  40308.000000  40308.000000       40308.000000   \n",
              "mean          73.713953      1.408678      0.258458           1.366701   \n",
              "std           27.376497      2.274405      0.901769           0.827924   \n",
              "min            0.000000      0.000000      0.000000           1.000000   \n",
              "25%           50.000000      0.000000      0.000000           1.000000   \n",
              "50%           83.000000      1.000000      0.000000           1.000000   \n",
              "75%          100.000000      2.000000      0.000000           1.000000   \n",
              "max          100.000000     30.000000      3.970000           7.000000   \n",
              "\n",
              "            educ_id  fresh_graduate  expected_salary      is_hired  \\\n",
              "count  40308.000000    40308.000000     3.764500e+04  40308.000000   \n",
              "mean      30.512628        0.613501     5.203101e+06      0.013446   \n",
              "std        2.661866        0.486953     3.124634e+06      0.115178   \n",
              "min       10.000000        0.000000     0.000000e+00      0.000000   \n",
              "25%       31.000000        0.000000     4.000000e+06      0.000000   \n",
              "50%       31.000000        1.000000     5.000000e+06      0.000000   \n",
              "75%       31.000000        1.000000     5.500000e+06      0.000000   \n",
              "max       71.000000        1.000000     5.000000e+07      1.000000   \n",
              "\n",
              "                age  \n",
              "count  40308.000000  \n",
              "mean      25.717500  \n",
              "std        3.797744  \n",
              "min       18.000000  \n",
              "25%       23.000000  \n",
              "50%       25.000000  \n",
              "75%       27.000000  \n",
              "max       62.000000  "
            ]
          },
          "execution_count": 674,
          "metadata": {},
          "output_type": "execute_result"
        }
      ],
      "source": [
        "cleaned_data.describe()"
      ]
    },
    {
      "cell_type": "markdown",
      "metadata": {},
      "source": [
        "** NUMERICAL IMPUTATION **"
      ]
    },
    {
      "cell_type": "code",
      "execution_count": 676,
      "metadata": {},
      "outputs": [],
      "source": [
        "from sklearn.impute import SimpleImputer\n",
        "def num_imputer_fit(data: pd.DataFrame):\n",
        "    imputer = SimpleImputer(missing_values=np.nan, strategy='median')\n",
        "    return imputer.fit(data)\n",
        "\n",
        "def num_imputer_transform(data: pd.DataFrame, imputer = SimpleImputer):\n",
        "    imputed_data = imputer.transform(data)\n",
        "    return pd.DataFrame(imputed_data, columns=data.columns.astype(str))"
      ]
    },
    {
      "cell_type": "code",
      "execution_count": 677,
      "metadata": {},
      "outputs": [],
      "source": [
        "data_num_cols = ['age', 'match_percentage', 'experience', 'gpa', 'expected_salary']\n",
        "data_num = cleaned_data[data_num_cols]\n",
        "\n",
        "# Get the numerical imputer\n",
        "num_imputer = num_imputer_fit(data_num)\n",
        "\n",
        "# Transform the data\n",
        "data_num_imputed = num_imputer_transform(data_num, num_imputer)"
      ]
    },
    {
      "cell_type": "code",
      "execution_count": 678,
      "metadata": {},
      "outputs": [
        {
          "data": {
            "text/plain": [
              "age                 0\n",
              "match_percentage    0\n",
              "experience          0\n",
              "gpa                 0\n",
              "expected_salary     0\n",
              "dtype: int64"
            ]
          },
          "execution_count": 678,
          "metadata": {},
          "output_type": "execute_result"
        }
      ],
      "source": [
        "data_num_imputed.isna().sum(0)"
      ]
    },
    {
      "cell_type": "code",
      "execution_count": 679,
      "metadata": {},
      "outputs": [
        {
          "data": {
            "text/html": [
              "<div>\n",
              "<style scoped>\n",
              "    .dataframe tbody tr th:only-of-type {\n",
              "        vertical-align: middle;\n",
              "    }\n",
              "\n",
              "    .dataframe tbody tr th {\n",
              "        vertical-align: top;\n",
              "    }\n",
              "\n",
              "    .dataframe thead th {\n",
              "        text-align: right;\n",
              "    }\n",
              "</style>\n",
              "<table border=\"1\" class=\"dataframe\">\n",
              "  <thead>\n",
              "    <tr style=\"text-align: right;\">\n",
              "      <th></th>\n",
              "      <th>age</th>\n",
              "      <th>match_percentage</th>\n",
              "      <th>experience</th>\n",
              "      <th>gpa</th>\n",
              "      <th>expected_salary</th>\n",
              "    </tr>\n",
              "  </thead>\n",
              "  <tbody>\n",
              "    <tr>\n",
              "      <th>0</th>\n",
              "      <td>32.0</td>\n",
              "      <td>0.0</td>\n",
              "      <td>0.0</td>\n",
              "      <td>0.0</td>\n",
              "      <td>5000000.0</td>\n",
              "    </tr>\n",
              "    <tr>\n",
              "      <th>1</th>\n",
              "      <td>32.0</td>\n",
              "      <td>0.0</td>\n",
              "      <td>0.0</td>\n",
              "      <td>0.0</td>\n",
              "      <td>5000000.0</td>\n",
              "    </tr>\n",
              "    <tr>\n",
              "      <th>2</th>\n",
              "      <td>29.0</td>\n",
              "      <td>25.0</td>\n",
              "      <td>1.0</td>\n",
              "      <td>0.0</td>\n",
              "      <td>0.0</td>\n",
              "    </tr>\n",
              "    <tr>\n",
              "      <th>3</th>\n",
              "      <td>28.0</td>\n",
              "      <td>67.0</td>\n",
              "      <td>1.0</td>\n",
              "      <td>0.0</td>\n",
              "      <td>0.0</td>\n",
              "    </tr>\n",
              "    <tr>\n",
              "      <th>4</th>\n",
              "      <td>24.0</td>\n",
              "      <td>13.0</td>\n",
              "      <td>2.0</td>\n",
              "      <td>0.0</td>\n",
              "      <td>4500000.0</td>\n",
              "    </tr>\n",
              "  </tbody>\n",
              "</table>\n",
              "</div>"
            ],
            "text/plain": [
              "    age  match_percentage  experience  gpa  expected_salary\n",
              "0  32.0               0.0         0.0  0.0        5000000.0\n",
              "1  32.0               0.0         0.0  0.0        5000000.0\n",
              "2  29.0              25.0         1.0  0.0              0.0\n",
              "3  28.0              67.0         1.0  0.0              0.0\n",
              "4  24.0              13.0         2.0  0.0        4500000.0"
            ]
          },
          "execution_count": 679,
          "metadata": {},
          "output_type": "execute_result"
        }
      ],
      "source": [
        "data_num_imputed.head()"
      ]
    },
    {
      "cell_type": "markdown",
      "metadata": {},
      "source": [
        "## Standarization Numerical Data"
      ]
    },
    {
      "cell_type": "code",
      "execution_count": 680,
      "metadata": {},
      "outputs": [],
      "source": [
        "from sklearn.preprocessing import StandardScaler\n",
        "def fit_scaler(data: pd.DataFrame):\n",
        "  scaler = StandardScaler()\n",
        "  return scaler.fit(data)\n",
        "\n",
        "def transform_scaler(data: pd.DataFrame, scaler: StandardScaler):\n",
        "  scaled_data = scaler.transform(data)\n",
        "\n",
        "  return pd.DataFrame(scaled_data, columns=data.columns.astype(str))\n"
      ]
    },
    {
      "cell_type": "code",
      "execution_count": 681,
      "metadata": {},
      "outputs": [],
      "source": [
        "# standarization\n",
        "def standarization(data):\n",
        "  scaler = fit_scaler(data)\n",
        "  standarized_num = transform_scaler(data, scaler)\n",
        "\n",
        "  return standarized_num\n",
        "\n",
        "standarized_num = standarization(data_num_imputed)"
      ]
    },
    {
      "cell_type": "code",
      "execution_count": 682,
      "metadata": {},
      "outputs": [
        {
          "data": {
            "text/html": [
              "<div>\n",
              "<style scoped>\n",
              "    .dataframe tbody tr th:only-of-type {\n",
              "        vertical-align: middle;\n",
              "    }\n",
              "\n",
              "    .dataframe tbody tr th {\n",
              "        vertical-align: top;\n",
              "    }\n",
              "\n",
              "    .dataframe thead th {\n",
              "        text-align: right;\n",
              "    }\n",
              "</style>\n",
              "<table border=\"1\" class=\"dataframe\">\n",
              "  <thead>\n",
              "    <tr style=\"text-align: right;\">\n",
              "      <th></th>\n",
              "      <th>age</th>\n",
              "      <th>match_percentage</th>\n",
              "      <th>experience</th>\n",
              "      <th>gpa</th>\n",
              "      <th>expected_salary</th>\n",
              "    </tr>\n",
              "  </thead>\n",
              "  <tbody>\n",
              "    <tr>\n",
              "      <th>count</th>\n",
              "      <td>40308.0000</td>\n",
              "      <td>40308.0000</td>\n",
              "      <td>40308.0000</td>\n",
              "      <td>40308.0000</td>\n",
              "      <td>4.030800e+04</td>\n",
              "    </tr>\n",
              "    <tr>\n",
              "      <th>mean</th>\n",
              "      <td>25.7175</td>\n",
              "      <td>73.7140</td>\n",
              "      <td>1.4087</td>\n",
              "      <td>0.2585</td>\n",
              "      <td>5.189683e+06</td>\n",
              "    </tr>\n",
              "    <tr>\n",
              "      <th>std</th>\n",
              "      <td>3.7977</td>\n",
              "      <td>27.3765</td>\n",
              "      <td>2.2744</td>\n",
              "      <td>0.9018</td>\n",
              "      <td>3.020073e+06</td>\n",
              "    </tr>\n",
              "    <tr>\n",
              "      <th>min</th>\n",
              "      <td>18.0000</td>\n",
              "      <td>0.0000</td>\n",
              "      <td>0.0000</td>\n",
              "      <td>0.0000</td>\n",
              "      <td>0.000000e+00</td>\n",
              "    </tr>\n",
              "    <tr>\n",
              "      <th>25%</th>\n",
              "      <td>23.0000</td>\n",
              "      <td>50.0000</td>\n",
              "      <td>0.0000</td>\n",
              "      <td>0.0000</td>\n",
              "      <td>4.000000e+06</td>\n",
              "    </tr>\n",
              "    <tr>\n",
              "      <th>50%</th>\n",
              "      <td>25.0000</td>\n",
              "      <td>83.0000</td>\n",
              "      <td>1.0000</td>\n",
              "      <td>0.0000</td>\n",
              "      <td>5.000000e+06</td>\n",
              "    </tr>\n",
              "    <tr>\n",
              "      <th>75%</th>\n",
              "      <td>27.0000</td>\n",
              "      <td>100.0000</td>\n",
              "      <td>2.0000</td>\n",
              "      <td>0.0000</td>\n",
              "      <td>5.500000e+06</td>\n",
              "    </tr>\n",
              "    <tr>\n",
              "      <th>max</th>\n",
              "      <td>62.0000</td>\n",
              "      <td>100.0000</td>\n",
              "      <td>30.0000</td>\n",
              "      <td>3.9700</td>\n",
              "      <td>5.000000e+07</td>\n",
              "    </tr>\n",
              "  </tbody>\n",
              "</table>\n",
              "</div>"
            ],
            "text/plain": [
              "              age  match_percentage  experience         gpa  expected_salary\n",
              "count  40308.0000        40308.0000  40308.0000  40308.0000     4.030800e+04\n",
              "mean      25.7175           73.7140      1.4087      0.2585     5.189683e+06\n",
              "std        3.7977           27.3765      2.2744      0.9018     3.020073e+06\n",
              "min       18.0000            0.0000      0.0000      0.0000     0.000000e+00\n",
              "25%       23.0000           50.0000      0.0000      0.0000     4.000000e+06\n",
              "50%       25.0000           83.0000      1.0000      0.0000     5.000000e+06\n",
              "75%       27.0000          100.0000      2.0000      0.0000     5.500000e+06\n",
              "max       62.0000          100.0000     30.0000      3.9700     5.000000e+07"
            ]
          },
          "execution_count": 682,
          "metadata": {},
          "output_type": "execute_result"
        }
      ],
      "source": [
        "data_num_imputed.describe().round(4)"
      ]
    },
    {
      "cell_type": "code",
      "execution_count": 683,
      "metadata": {},
      "outputs": [
        {
          "data": {
            "text/html": [
              "<div>\n",
              "<style scoped>\n",
              "    .dataframe tbody tr th:only-of-type {\n",
              "        vertical-align: middle;\n",
              "    }\n",
              "\n",
              "    .dataframe tbody tr th {\n",
              "        vertical-align: top;\n",
              "    }\n",
              "\n",
              "    .dataframe thead th {\n",
              "        text-align: right;\n",
              "    }\n",
              "</style>\n",
              "<table border=\"1\" class=\"dataframe\">\n",
              "  <thead>\n",
              "    <tr style=\"text-align: right;\">\n",
              "      <th></th>\n",
              "      <th>age</th>\n",
              "      <th>match_percentage</th>\n",
              "      <th>experience</th>\n",
              "      <th>gpa</th>\n",
              "      <th>expected_salary</th>\n",
              "    </tr>\n",
              "  </thead>\n",
              "  <tbody>\n",
              "    <tr>\n",
              "      <th>count</th>\n",
              "      <td>40308.0000</td>\n",
              "      <td>40308.0000</td>\n",
              "      <td>40308.0000</td>\n",
              "      <td>40308.0000</td>\n",
              "      <td>40308.0000</td>\n",
              "    </tr>\n",
              "    <tr>\n",
              "      <th>mean</th>\n",
              "      <td>-0.0000</td>\n",
              "      <td>-0.0000</td>\n",
              "      <td>0.0000</td>\n",
              "      <td>0.0000</td>\n",
              "      <td>0.0000</td>\n",
              "    </tr>\n",
              "    <tr>\n",
              "      <th>std</th>\n",
              "      <td>1.0000</td>\n",
              "      <td>1.0000</td>\n",
              "      <td>1.0000</td>\n",
              "      <td>1.0000</td>\n",
              "      <td>1.0000</td>\n",
              "    </tr>\n",
              "    <tr>\n",
              "      <th>min</th>\n",
              "      <td>-2.0322</td>\n",
              "      <td>-2.6926</td>\n",
              "      <td>-0.6194</td>\n",
              "      <td>-0.2866</td>\n",
              "      <td>-1.7184</td>\n",
              "    </tr>\n",
              "    <tr>\n",
              "      <th>25%</th>\n",
              "      <td>-0.7156</td>\n",
              "      <td>-0.8662</td>\n",
              "      <td>-0.6194</td>\n",
              "      <td>-0.2866</td>\n",
              "      <td>-0.3939</td>\n",
              "    </tr>\n",
              "    <tr>\n",
              "      <th>50%</th>\n",
              "      <td>-0.1889</td>\n",
              "      <td>0.3392</td>\n",
              "      <td>-0.1797</td>\n",
              "      <td>-0.2866</td>\n",
              "      <td>-0.0628</td>\n",
              "    </tr>\n",
              "    <tr>\n",
              "      <th>75%</th>\n",
              "      <td>0.3377</td>\n",
              "      <td>0.9602</td>\n",
              "      <td>0.2600</td>\n",
              "      <td>-0.2866</td>\n",
              "      <td>0.1028</td>\n",
              "    </tr>\n",
              "    <tr>\n",
              "      <th>max</th>\n",
              "      <td>9.5538</td>\n",
              "      <td>0.9602</td>\n",
              "      <td>12.5711</td>\n",
              "      <td>4.1159</td>\n",
              "      <td>14.8377</td>\n",
              "    </tr>\n",
              "  </tbody>\n",
              "</table>\n",
              "</div>"
            ],
            "text/plain": [
              "              age  match_percentage  experience         gpa  expected_salary\n",
              "count  40308.0000        40308.0000  40308.0000  40308.0000       40308.0000\n",
              "mean      -0.0000           -0.0000      0.0000      0.0000           0.0000\n",
              "std        1.0000            1.0000      1.0000      1.0000           1.0000\n",
              "min       -2.0322           -2.6926     -0.6194     -0.2866          -1.7184\n",
              "25%       -0.7156           -0.8662     -0.6194     -0.2866          -0.3939\n",
              "50%       -0.1889            0.3392     -0.1797     -0.2866          -0.0628\n",
              "75%        0.3377            0.9602      0.2600     -0.2866           0.1028\n",
              "max        9.5538            0.9602     12.5711      4.1159          14.8377"
            ]
          },
          "execution_count": 683,
          "metadata": {},
          "output_type": "execute_result"
        }
      ],
      "source": [
        "standarized_num.describe().round(4)"
      ]
    },
    {
      "cell_type": "markdown",
      "metadata": {},
      "source": [
        "## Encode Categorical Data"
      ]
    },
    {
      "cell_type": "code",
      "execution_count": 684,
      "metadata": {},
      "outputs": [],
      "source": [
        "from sklearn.preprocessing import OneHotEncoder, OrdinalEncoder, LabelEncoder"
      ]
    },
    {
      "cell_type": "code",
      "execution_count": 685,
      "metadata": {},
      "outputs": [
        {
          "data": {
            "text/plain": [
              "array(['jobseeker.app', 'karirsite', 'karirpad', 'unknown',\n",
              "       'jobseeker.software', 'google', 'jobseeker.app_indeed', 'Linkedin',\n",
              "       'mobile_site', 'jobseeker.app_partner', 'facebook', 'ATS'],\n",
              "      dtype=object)"
            ]
          },
          "execution_count": 685,
          "metadata": {},
          "output_type": "execute_result"
        }
      ],
      "source": [
        "cleaned_data['registered_from'].unique()"
      ]
    },
    {
      "cell_type": "markdown",
      "metadata": {},
      "source": [
        "we have several categorical data to encode: \n",
        "- Binary: gender, fresh_graduate (no encode)\n",
        "- Ordinal: educ_id\n",
        "- OHE: marital_status_id, registered_from"
      ]
    },
    {
      "cell_type": "code",
      "execution_count": 686,
      "metadata": {},
      "outputs": [],
      "source": [
        "def cat_encoder_transfrom(data: pd.DataFrame):\n",
        "    ordinal_enc = OrdinalEncoder(categories=\"auto\")\n",
        "    ohe = OneHotEncoder(sparse_output=False)\n",
        "    label_enc = LabelEncoder()\n",
        "\n",
        "    data_registered_ohe = data[['registered_from']]\n",
        "    data_marital_ohe = data[['marital_status_id']].astype(str)\n",
        "\n",
        "    data_registered_values = data['registered_from'].unique()\n",
        "    data_marital_values = data['marital_status_id'].unique().astype(str)\n",
        "\n",
        "    marital_encoded = pd.DataFrame(ohe.fit_transform(data_marital_ohe), columns=data_marital_values)\n",
        "    registered_encoded = pd.DataFrame(ohe.fit_transform(data_registered_ohe), columns=data_registered_values)\n",
        "\n",
        "    data_ordinal_encoded = pd.DataFrame(ordinal_enc.fit_transform(data[['educ_id']]), columns=['educ_id'])\n",
        "\n",
        "    data_label_encoded = pd.DataFrame(label_enc.fit_transform(data[['gender']]), columns=['gender'])\n",
        "\n",
        "    # Concatenate encoded dataframes\n",
        "    data_encoded = pd.concat([marital_encoded, registered_encoded, data_ordinal_encoded, data_label_encoded], axis=1)\n",
        "\n",
        "    return data_encoded"
      ]
    },
    {
      "cell_type": "code",
      "execution_count": 687,
      "metadata": {},
      "outputs": [
        {
          "name": "stderr",
          "output_type": "stream",
          "text": [
            "c:\\Users\\hafiz\\Mine\\Learn\\pacmann\\ai\\02_introduction_to_machine_learning\\.venv\\Lib\\site-packages\\sklearn\\preprocessing\\_label.py:114: DataConversionWarning: A column-vector y was passed when a 1d array was expected. Please change the shape of y to (n_samples, ), for example using ravel().\n",
            "  y = column_or_1d(y, warn=True)\n"
          ]
        }
      ],
      "source": [
        "data_cat = cleaned_data[['gender', 'educ_id', 'registered_from', 'marital_status_id', 'fresh_graduate']]\n",
        "data_cat_encoded = cat_encoder_transfrom(data_cat)"
      ]
    },
    {
      "cell_type": "code",
      "execution_count": 688,
      "metadata": {},
      "outputs": [],
      "source": [
        "def concat_data(data_num: pd.DataFrame, data_cat: pd.DataFrame):\n",
        "  print(\"Numerical data shape: \"+str(data_num.shape))\n",
        "  print(\"After decode categorical\")\n",
        "  print(\"Categorical data shape: \"+str(data_cat.shape))\n",
        "  concat_data = pd.concat([data_num, data_cat], axis=1)\n",
        "  print(\"Concat data shape: \"+str(concat_data.shape))\n",
        "  \n",
        "  return concat_data"
      ]
    },
    {
      "cell_type": "markdown",
      "metadata": {},
      "source": [
        "concat imputed numerical data and encoded categorical data"
      ]
    },
    {
      "cell_type": "code",
      "execution_count": 689,
      "metadata": {},
      "outputs": [
        {
          "name": "stdout",
          "output_type": "stream",
          "text": [
            "Numerical data shape: (40308, 5)\n",
            "After decode categorical\n",
            "Categorical data shape: (40308, 21)\n",
            "Concat data shape: (40308, 26)\n"
          ]
        }
      ],
      "source": [
        "# Concat the data\n",
        "data_concat = concat_data(standarized_num, data_cat_encoded)"
      ]
    },
    {
      "cell_type": "code",
      "execution_count": 690,
      "metadata": {},
      "outputs": [
        {
          "data": {
            "text/html": [
              "<div>\n",
              "<style scoped>\n",
              "    .dataframe tbody tr th:only-of-type {\n",
              "        vertical-align: middle;\n",
              "    }\n",
              "\n",
              "    .dataframe tbody tr th {\n",
              "        vertical-align: top;\n",
              "    }\n",
              "\n",
              "    .dataframe thead th {\n",
              "        text-align: right;\n",
              "    }\n",
              "</style>\n",
              "<table border=\"1\" class=\"dataframe\">\n",
              "  <thead>\n",
              "    <tr style=\"text-align: right;\">\n",
              "      <th></th>\n",
              "      <th>age</th>\n",
              "      <th>match_percentage</th>\n",
              "      <th>experience</th>\n",
              "      <th>gpa</th>\n",
              "      <th>expected_salary</th>\n",
              "      <th>3.0</th>\n",
              "      <th>1.0</th>\n",
              "      <th>5.0</th>\n",
              "      <th>2.0</th>\n",
              "      <th>7.0</th>\n",
              "      <th>...</th>\n",
              "      <th>jobseeker.software</th>\n",
              "      <th>google</th>\n",
              "      <th>jobseeker.app_indeed</th>\n",
              "      <th>Linkedin</th>\n",
              "      <th>mobile_site</th>\n",
              "      <th>jobseeker.app_partner</th>\n",
              "      <th>facebook</th>\n",
              "      <th>ATS</th>\n",
              "      <th>educ_id</th>\n",
              "      <th>gender</th>\n",
              "    </tr>\n",
              "  </thead>\n",
              "  <tbody>\n",
              "    <tr>\n",
              "      <th>0</th>\n",
              "      <td>1.654292</td>\n",
              "      <td>-2.692633</td>\n",
              "      <td>-0.619369</td>\n",
              "      <td>-0.286615</td>\n",
              "      <td>-0.062808</td>\n",
              "      <td>0.0</td>\n",
              "      <td>0.0</td>\n",
              "      <td>1.0</td>\n",
              "      <td>0.0</td>\n",
              "      <td>0.0</td>\n",
              "      <td>...</td>\n",
              "      <td>1.0</td>\n",
              "      <td>0.0</td>\n",
              "      <td>0.0</td>\n",
              "      <td>0.0</td>\n",
              "      <td>0.0</td>\n",
              "      <td>0.0</td>\n",
              "      <td>0.0</td>\n",
              "      <td>0.0</td>\n",
              "      <td>9.0</td>\n",
              "      <td>1</td>\n",
              "    </tr>\n",
              "    <tr>\n",
              "      <th>1</th>\n",
              "      <td>1.654292</td>\n",
              "      <td>-2.692633</td>\n",
              "      <td>-0.619369</td>\n",
              "      <td>-0.286615</td>\n",
              "      <td>-0.062808</td>\n",
              "      <td>0.0</td>\n",
              "      <td>0.0</td>\n",
              "      <td>1.0</td>\n",
              "      <td>0.0</td>\n",
              "      <td>0.0</td>\n",
              "      <td>...</td>\n",
              "      <td>1.0</td>\n",
              "      <td>0.0</td>\n",
              "      <td>0.0</td>\n",
              "      <td>0.0</td>\n",
              "      <td>0.0</td>\n",
              "      <td>0.0</td>\n",
              "      <td>0.0</td>\n",
              "      <td>0.0</td>\n",
              "      <td>9.0</td>\n",
              "      <td>1</td>\n",
              "    </tr>\n",
              "    <tr>\n",
              "      <th>2</th>\n",
              "      <td>0.864340</td>\n",
              "      <td>-1.779430</td>\n",
              "      <td>-0.179688</td>\n",
              "      <td>-0.286615</td>\n",
              "      <td>-1.718418</td>\n",
              "      <td>1.0</td>\n",
              "      <td>0.0</td>\n",
              "      <td>0.0</td>\n",
              "      <td>0.0</td>\n",
              "      <td>0.0</td>\n",
              "      <td>...</td>\n",
              "      <td>1.0</td>\n",
              "      <td>0.0</td>\n",
              "      <td>0.0</td>\n",
              "      <td>0.0</td>\n",
              "      <td>0.0</td>\n",
              "      <td>0.0</td>\n",
              "      <td>0.0</td>\n",
              "      <td>0.0</td>\n",
              "      <td>4.0</td>\n",
              "      <td>0</td>\n",
              "    </tr>\n",
              "    <tr>\n",
              "      <th>3</th>\n",
              "      <td>0.601022</td>\n",
              "      <td>-0.245248</td>\n",
              "      <td>-0.179688</td>\n",
              "      <td>-0.286615</td>\n",
              "      <td>-1.718418</td>\n",
              "      <td>1.0</td>\n",
              "      <td>0.0</td>\n",
              "      <td>0.0</td>\n",
              "      <td>0.0</td>\n",
              "      <td>0.0</td>\n",
              "      <td>...</td>\n",
              "      <td>1.0</td>\n",
              "      <td>0.0</td>\n",
              "      <td>0.0</td>\n",
              "      <td>0.0</td>\n",
              "      <td>0.0</td>\n",
              "      <td>0.0</td>\n",
              "      <td>0.0</td>\n",
              "      <td>0.0</td>\n",
              "      <td>6.0</td>\n",
              "      <td>0</td>\n",
              "    </tr>\n",
              "    <tr>\n",
              "      <th>4</th>\n",
              "      <td>-0.452248</td>\n",
              "      <td>-2.217768</td>\n",
              "      <td>0.259993</td>\n",
              "      <td>-0.286615</td>\n",
              "      <td>-0.228369</td>\n",
              "      <td>1.0</td>\n",
              "      <td>0.0</td>\n",
              "      <td>0.0</td>\n",
              "      <td>0.0</td>\n",
              "      <td>0.0</td>\n",
              "      <td>...</td>\n",
              "      <td>1.0</td>\n",
              "      <td>0.0</td>\n",
              "      <td>0.0</td>\n",
              "      <td>0.0</td>\n",
              "      <td>0.0</td>\n",
              "      <td>0.0</td>\n",
              "      <td>0.0</td>\n",
              "      <td>0.0</td>\n",
              "      <td>6.0</td>\n",
              "      <td>0</td>\n",
              "    </tr>\n",
              "  </tbody>\n",
              "</table>\n",
              "<p>5 rows × 26 columns</p>\n",
              "</div>"
            ],
            "text/plain": [
              "        age  match_percentage  experience       gpa  expected_salary  3.0  \\\n",
              "0  1.654292         -2.692633   -0.619369 -0.286615        -0.062808  0.0   \n",
              "1  1.654292         -2.692633   -0.619369 -0.286615        -0.062808  0.0   \n",
              "2  0.864340         -1.779430   -0.179688 -0.286615        -1.718418  1.0   \n",
              "3  0.601022         -0.245248   -0.179688 -0.286615        -1.718418  1.0   \n",
              "4 -0.452248         -2.217768    0.259993 -0.286615        -0.228369  1.0   \n",
              "\n",
              "   1.0  5.0  2.0  7.0  ...  jobseeker.software  google  jobseeker.app_indeed  \\\n",
              "0  0.0  1.0  0.0  0.0  ...                 1.0     0.0                   0.0   \n",
              "1  0.0  1.0  0.0  0.0  ...                 1.0     0.0                   0.0   \n",
              "2  0.0  0.0  0.0  0.0  ...                 1.0     0.0                   0.0   \n",
              "3  0.0  0.0  0.0  0.0  ...                 1.0     0.0                   0.0   \n",
              "4  0.0  0.0  0.0  0.0  ...                 1.0     0.0                   0.0   \n",
              "\n",
              "   Linkedin  mobile_site  jobseeker.app_partner  facebook  ATS  educ_id  \\\n",
              "0       0.0          0.0                    0.0       0.0  0.0      9.0   \n",
              "1       0.0          0.0                    0.0       0.0  0.0      9.0   \n",
              "2       0.0          0.0                    0.0       0.0  0.0      4.0   \n",
              "3       0.0          0.0                    0.0       0.0  0.0      6.0   \n",
              "4       0.0          0.0                    0.0       0.0  0.0      6.0   \n",
              "\n",
              "   gender  \n",
              "0       1  \n",
              "1       1  \n",
              "2       0  \n",
              "3       0  \n",
              "4       0  \n",
              "\n",
              "[5 rows x 26 columns]"
            ]
          },
          "execution_count": 690,
          "metadata": {},
          "output_type": "execute_result"
        }
      ],
      "source": [
        "data_concat.head()"
      ]
    },
    {
      "cell_type": "markdown",
      "metadata": {},
      "source": [
        "## Split Data"
      ]
    },
    {
      "cell_type": "code",
      "execution_count": 691,
      "metadata": {},
      "outputs": [],
      "source": [
        "X = data_concat\n",
        "y = cleaned_data['is_hired']"
      ]
    },
    {
      "cell_type": "code",
      "execution_count": 692,
      "metadata": {},
      "outputs": [],
      "source": [
        "from sklearn.model_selection import train_test_split\n",
        "def split_train_test(X: pd.DataFrame, y: pd.DataFrame, test_size: float, seed: int, names):\n",
        "  X_train, X_test, y_train, y_test = train_test_split(X, y, test_size=test_size, random_state=seed, stratify=y)\n",
        "\n",
        "  print('X ' + names[0] +' shape: '+ str(X_train.shape))\n",
        "  print('y ' + names[0] + ' shape: '+ str(y_train.shape))\n",
        "  print('X ' + names[1] + ' shape: '+ str(X_test.shape))\n",
        "  print('y ' + names[1] + ' shape: '+ str(y_test.shape))\n",
        "\n",
        "  return X_train, X_test, y_train, y_test"
      ]
    },
    {
      "cell_type": "code",
      "execution_count": 693,
      "metadata": {},
      "outputs": [
        {
          "name": "stdout",
          "output_type": "stream",
          "text": [
            "X train shape: (32246, 26)\n",
            "y train shape: (32246,)\n",
            "X not_train shape: (8062, 26)\n",
            "y not_train shape: (8062,)\n",
            "X valid shape: (4031, 26)\n",
            "y valid shape: (4031,)\n",
            "X test shape: (4031, 26)\n",
            "y test shape: (4031,)\n"
          ]
        }
      ],
      "source": [
        "X_train, X_not_train, y_train, y_not_train = split_train_test(X, y, 0.2, 123, ['train', 'not_train'])\n",
        "\n",
        "X_valid, X_test, y_valid, y_test = split_train_test(X_not_train, y_not_train, 0.5, 123, ['valid', 'test'])"
      ]
    },
    {
      "cell_type": "markdown",
      "metadata": {},
      "source": [
        "# Modeling"
      ]
    },
    {
      "cell_type": "markdown",
      "metadata": {},
      "source": [
        "## Define Metrics"
      ]
    },
    {
      "cell_type": "markdown",
      "metadata": {},
      "source": [
        "I will use confusion matrix to evaluate this classification model."
      ]
    },
    {
      "cell_type": "markdown",
      "metadata": {},
      "source": [
        "## Baseline Models"
      ]
    },
    {
      "cell_type": "markdown",
      "metadata": {},
      "source": [
        "I will using DummyClassifier as a baseline model because the target is 0 or 1 (classification)"
      ]
    },
    {
      "cell_type": "code",
      "execution_count": 696,
      "metadata": {},
      "outputs": [
        {
          "data": {
            "text/plain": [
              "is_hired\n",
              "0    3977\n",
              "1      54\n",
              "Name: count, dtype: int64"
            ]
          },
          "execution_count": 696,
          "metadata": {},
          "output_type": "execute_result"
        }
      ],
      "source": [
        "y_valid.value_counts()"
      ]
    },
    {
      "cell_type": "code",
      "execution_count": 694,
      "metadata": {},
      "outputs": [],
      "source": [
        "from sklearn.dummy import DummyClassifier\n",
        "\n",
        "# train model baseline\n",
        "dummy_clf = DummyClassifier(strategy='most_frequent')\n",
        "dummy_clf.fit(X_train, y_train)\n",
        "# pred X_valid\n",
        "y_pred_valid_baseline = dummy_clf.predict(X_valid)"
      ]
    },
    {
      "cell_type": "code",
      "execution_count": 697,
      "metadata": {},
      "outputs": [
        {
          "name": "stdout",
          "output_type": "stream",
          "text": [
            "accuracy:  0.9866038203919623\n",
            "recall:  0.0\n"
          ]
        }
      ],
      "source": [
        "print('accuracy: ',accuracy_score(y_valid, y_pred_valid_baseline))\n",
        "print('recall: ',recall_score(y_valid, y_pred_valid_baseline))"
      ]
    },
    {
      "cell_type": "markdown",
      "metadata": {},
      "source": [
        "From the result, we got good accuracy but bad recall, it might be because of our model predicts only the negative class (0) and never predicts the positive class (1) and also might be suffering from severe class imbalance, leading it to predict the majority class (0) only. So we have to using cross validation to randomize training - valid data."
      ]
    },
    {
      "cell_type": "code",
      "execution_count": 699,
      "metadata": {},
      "outputs": [
        {
          "name": "stdout",
          "output_type": "stream",
          "text": [
            "Best parameters: {}\n",
            "Best accuracy score: 0.986540981399196\n"
          ]
        }
      ],
      "source": [
        "from sklearn.model_selection import GridSearchCV\n",
        "from sklearn.metrics import make_scorer, recall_score, accuracy_score\n",
        "\n",
        "model = DummyClassifier(strategy='most_frequent')\n",
        "\n",
        "param_grid = {}\n",
        "scorers = {\n",
        "    'accuracy': make_scorer(accuracy_score),\n",
        "    'recall': make_scorer(recall_score)\n",
        "}\n",
        "\n",
        "# Set up GridSearchCV\n",
        "grid_search = GridSearchCV(estimator=model, param_grid=param_grid, scoring=scorers, refit='accuracy', cv=10, return_train_score=True)\n",
        "\n",
        "# Fit the model\n",
        "grid_search.fit(X_train, y_train)\n",
        "\n",
        "# Print the best parameters and best scores\n",
        "print(f\"Best parameters: {grid_search.best_params_}\")\n",
        "print(f\"Best accuracy score: {grid_search.best_score_}\")\n"
      ]
    },
    {
      "cell_type": "code",
      "execution_count": 700,
      "metadata": {},
      "outputs": [
        {
          "name": "stdout",
          "output_type": "stream",
          "text": [
            "Mean test accuracy scores: [0.98654098]\n",
            "Mean test recall scores: [0.]\n"
          ]
        }
      ],
      "source": [
        "results = grid_search.cv_results_\n",
        "mean_test_accuracy = results['mean_test_accuracy']\n",
        "mean_test_recall = results['mean_test_recall']\n",
        "\n",
        "# Print mean test accuracy and recall scores\n",
        "print(f\"Mean test accuracy scores: {mean_test_accuracy}\")\n",
        "print(f\"Mean test recall scores: {mean_test_recall}\")"
      ]
    },
    {
      "cell_type": "markdown",
      "metadata": {},
      "source": [
        "We still got imbalance recall, it might be baseline model. So next we will try using other model which may provide better recall performance."
      ]
    },
    {
      "cell_type": "markdown",
      "metadata": {},
      "source": [
        "## Best Model Search and Hyperparameter Tuning"
      ]
    },
    {
      "cell_type": "markdown",
      "metadata": {},
      "source": [
        "I will choose KNN and Decision Tree for classification with gridsearch to do hyperparameter tuning."
      ]
    },
    {
      "cell_type": "markdown",
      "metadata": {},
      "source": [
        "### KNN Classifier"
      ]
    },
    {
      "cell_type": "code",
      "execution_count": 701,
      "metadata": {},
      "outputs": [
        {
          "name": "stderr",
          "output_type": "stream",
          "text": [
            "c:\\Users\\hafiz\\Mine\\Learn\\pacmann\\ai\\02_introduction_to_machine_learning\\.venv\\Lib\\site-packages\\joblib\\externals\\loky\\backend\\context.py:136: UserWarning: Could not find the number of physical cores for the following reason:\n",
            "found 0 physical cores < 1\n",
            "Returning the number of logical cores instead. You can silence this warning by setting LOKY_MAX_CPU_COUNT to the number of cores you want to use.\n",
            "  warnings.warn(\n",
            "  File \"c:\\Users\\hafiz\\Mine\\Learn\\pacmann\\ai\\02_introduction_to_machine_learning\\.venv\\Lib\\site-packages\\joblib\\externals\\loky\\backend\\context.py\", line 282, in _count_physical_cores\n",
            "    raise ValueError(f\"found {cpu_count_physical} physical cores < 1\")\n"
          ]
        }
      ],
      "source": [
        "from sklearn.neighbors import KNeighborsClassifier\n",
        "\n",
        "model = KNeighborsClassifier()\n",
        "param_grid = {'n_neighbors': [1, 10, 25, 50]}\n",
        "\n",
        "# Perform GridSearchCV\n",
        "grid_search_knn = GridSearchCV(estimator=model, param_grid=param_grid, scoring=scorers, cv=10, return_train_score=True, refit='accuracy')\n",
        "reg_knn = grid_search_knn.fit(X_train, y_train)"
      ]
    },
    {
      "cell_type": "code",
      "execution_count": 702,
      "metadata": {},
      "outputs": [
        {
          "name": "stdout",
          "output_type": "stream",
          "text": [
            "KNN Mean Valid Accuracy [0.97546988 0.98654098 0.98654098 0.98654098]\n",
            "KNN Mean Valid Recall [0.02764271 0.         0.         0.        ]\n",
            "KNN Best Params {'n_neighbors': 10}\n",
            "KNN Best Score 0.986540981399196\n"
          ]
        }
      ],
      "source": [
        "print('KNN Mean Valid Accuracy',reg_knn.cv_results_['mean_test_accuracy'])\n",
        "print('KNN Mean Valid Recall',reg_knn.cv_results_['mean_test_recall'])\n",
        "print('KNN Best Params',reg_knn.best_params_)\n",
        "print('KNN Best Score',reg_knn.best_score_)"
      ]
    },
    {
      "cell_type": "code",
      "execution_count": 703,
      "metadata": {},
      "outputs": [
        {
          "name": "stdout",
          "output_type": "stream",
          "text": [
            "Validation Accuracy: 0.9866, Recall: 0.0000\n"
          ]
        }
      ],
      "source": [
        "best_knn_model = grid_search_knn.best_estimator_\n",
        "\n",
        "y_valid_pred_knn = best_knn_model.predict(X_valid)\n",
        "accuracy_valid_knn = accuracy_score(y_valid, y_valid_pred_knn)\n",
        "recall_valid_knn = recall_score(y_valid, y_valid_pred_knn)\n",
        "\n",
        "print(f\"Validation Accuracy: {accuracy_valid_knn:.4f}, Recall: {recall_valid_knn:.4f}\")"
      ]
    },
    {
      "cell_type": "markdown",
      "metadata": {},
      "source": [
        "### Decision Tree"
      ]
    },
    {
      "cell_type": "code",
      "execution_count": 704,
      "metadata": {},
      "outputs": [],
      "source": [
        "from sklearn.tree import DecisionTreeClassifier\n",
        "\n",
        "param_grid = {\n",
        "    'max_depth': [2, 10, 30, 100, None],\n",
        "    'min_samples_split': [2, 25, 50, 100, 150],\n",
        "    'min_samples_leaf': [2, 5, 10, 20]\n",
        "    }\n",
        "grid_search_dt = GridSearchCV(estimator=DecisionTreeClassifier(), param_grid=param_grid, scoring=scorers, cv=10, return_train_score=True, refit='accuracy')\n",
        "dt = grid_search_dt.fit(X_train, y_train)"
      ]
    },
    {
      "cell_type": "code",
      "execution_count": 705,
      "metadata": {},
      "outputs": [
        {
          "name": "stdout",
          "output_type": "stream",
          "text": [
            "Decision Tree Mean Valid Accuracy [0.98654098 0.98654098 0.98654098 0.98654098 0.98654098 0.98654098\n",
            " 0.98654098 0.98654098 0.98654098 0.98654098 0.98654098 0.98654098\n",
            " 0.98654098 0.98654098 0.98654098 0.98654098 0.98654098 0.98654098\n",
            " 0.98654098 0.98654098 0.98613783 0.98638593 0.98650996 0.98650996\n",
            " 0.98650996 0.98654098 0.98654098 0.98654098 0.98654098 0.98654098\n",
            " 0.98654098 0.98654098 0.98654098 0.98654098 0.98654098 0.98654098\n",
            " 0.98654098 0.98654098 0.98654098 0.98654098 0.98536262 0.98619988\n",
            " 0.98635492 0.98641693 0.98641693 0.98654098 0.98654098 0.98654098\n",
            " 0.98654098 0.98654098 0.98654098 0.98654098 0.98654098 0.98654098\n",
            " 0.98654098 0.98654098 0.98654098 0.98654098 0.98654098 0.98654098\n",
            " 0.9853626  0.98619988 0.98635492 0.98641693 0.98641693 0.98654098\n",
            " 0.98654098 0.98654098 0.98654098 0.98654098 0.98654098 0.98654098\n",
            " 0.98654098 0.98654098 0.98654098 0.98654098 0.98654098 0.98654098\n",
            " 0.98654098 0.98654098 0.98533159 0.98619988 0.98635492 0.98641693\n",
            " 0.98641693 0.98647897 0.98654098 0.98654098 0.98654098 0.98654098\n",
            " 0.98654098 0.98654098 0.98654098 0.98654098 0.98654098 0.98654098\n",
            " 0.98654098 0.98654098 0.98654098 0.98654098]\n",
            "Decision Tree Mean Valid Recall [0.         0.         0.         0.         0.         0.\n",
            " 0.         0.         0.         0.         0.         0.\n",
            " 0.         0.         0.         0.         0.         0.\n",
            " 0.         0.         0.00227273 0.         0.         0.\n",
            " 0.         0.         0.         0.         0.         0.\n",
            " 0.         0.         0.         0.         0.         0.\n",
            " 0.         0.         0.         0.         0.00454545 0.\n",
            " 0.         0.         0.         0.         0.         0.\n",
            " 0.         0.         0.         0.         0.         0.\n",
            " 0.         0.         0.         0.         0.         0.\n",
            " 0.00454545 0.         0.         0.         0.         0.\n",
            " 0.         0.         0.         0.         0.         0.\n",
            " 0.         0.         0.         0.         0.         0.\n",
            " 0.         0.         0.00454545 0.         0.         0.\n",
            " 0.         0.         0.         0.         0.         0.\n",
            " 0.         0.         0.         0.         0.         0.\n",
            " 0.         0.         0.         0.        ]\n",
            "Decision Tree Best Params {'max_depth': 2, 'min_samples_leaf': 2, 'min_samples_split': 2}\n",
            "Decision Tree Best Score 0.986540981399196\n"
          ]
        }
      ],
      "source": [
        "print('Decision Tree Mean Valid Accuracy',dt.cv_results_['mean_test_accuracy'])\n",
        "print('Decision Tree Mean Valid Recall',dt.cv_results_['mean_test_recall'])\n",
        "print('Decision Tree Best Params',dt.best_params_)\n",
        "print('Decision Tree Best Score',dt.best_score_)"
      ]
    },
    {
      "cell_type": "code",
      "execution_count": 706,
      "metadata": {},
      "outputs": [
        {
          "name": "stdout",
          "output_type": "stream",
          "text": [
            "Validation Accuracy: 0.9866, Recall: 0.0000\n"
          ]
        }
      ],
      "source": [
        "best_dt_model = grid_search_dt.best_estimator_\n",
        "\n",
        "y_valid_pred = best_dt_model.predict(X_valid)\n",
        "accuracy_valid = accuracy_score(y_valid, y_valid_pred)\n",
        "recall_valid = recall_score(y_valid, y_valid_pred)\n",
        "\n",
        "print(f\"Validation Accuracy: {accuracy_valid:.4f}, Recall: {recall_valid:.4f}\")"
      ]
    },
    {
      "cell_type": "markdown",
      "metadata": {},
      "source": [
        "Dari hasil KNN dan Decision Tree didapatkan nilai Recall 0 (prediksi tepat is_hired 1) maka dari itu kita mencoba pemodelan Random Forest yang lebih tepat untuk data imbalance seperti yang ditunjukkan oleh https://link.springer.com/article/10.1186/1472-6947-11-51."
      ]
    },
    {
      "cell_type": "markdown",
      "metadata": {},
      "source": [
        "### Random Forest"
      ]
    },
    {
      "cell_type": "code",
      "execution_count": 718,
      "metadata": {},
      "outputs": [
        {
          "name": "stdout",
          "output_type": "stream",
          "text": [
            "Best parameters: {'class_weight': 'balanced'}\n",
            "Best f1 score: 0.05226695919220507\n",
            "              precision    recall  f1-score   support\n",
            "\n",
            "           0       0.99      0.88      0.93      3977\n",
            "           1       0.04      0.41      0.08        54\n",
            "\n",
            "    accuracy                           0.87      4031\n",
            "   macro avg       0.52      0.64      0.50      4031\n",
            "weighted avg       0.98      0.87      0.92      4031\n",
            "\n"
          ]
        }
      ],
      "source": [
        "from sklearn.ensemble import RandomForestClassifier\n",
        "from sklearn.metrics import classification_report\n",
        "\n",
        "param_grid = {\n",
        "    # 'n_estimators': [100, 200, 300],\n",
        "    # 'max_depth': [10, 20, 30, None],\n",
        "    # 'min_samples_split': [2, 10, 20],\n",
        "    # 'min_samples_leaf': [1, 2, 4],\n",
        "    'class_weight': ['balanced', 'balanced_subsample', None]\n",
        "}\n",
        "grid_search_rf = GridSearchCV(estimator=RandomForestClassifier(), param_grid=param_grid, scoring='f1', cv=10)\n",
        "grid_search_rf.fit(X_train, y_train)\n",
        "\n",
        "print(f\"Best parameters: {grid_search_rf.best_params_}\")\n",
        "print(f\"Best f1 score: {grid_search_rf.best_score_}\")\n",
        "\n",
        "best_model_rf = grid_search_rf.best_estimator_\n",
        "y_pred_rf = best_model_rf.predict(X_valid)\n",
        "\n",
        "# Evaluasi model\n",
        "print(classification_report(y_valid, y_pred_rf))"
      ]
    },
    {
      "cell_type": "code",
      "execution_count": 719,
      "metadata": {},
      "outputs": [
        {
          "data": {
            "text/html": [
              "<style>#sk-container-id-2 {\n",
              "  /* Definition of color scheme common for light and dark mode */\n",
              "  --sklearn-color-text: black;\n",
              "  --sklearn-color-line: gray;\n",
              "  /* Definition of color scheme for unfitted estimators */\n",
              "  --sklearn-color-unfitted-level-0: #fff5e6;\n",
              "  --sklearn-color-unfitted-level-1: #f6e4d2;\n",
              "  --sklearn-color-unfitted-level-2: #ffe0b3;\n",
              "  --sklearn-color-unfitted-level-3: chocolate;\n",
              "  /* Definition of color scheme for fitted estimators */\n",
              "  --sklearn-color-fitted-level-0: #f0f8ff;\n",
              "  --sklearn-color-fitted-level-1: #d4ebff;\n",
              "  --sklearn-color-fitted-level-2: #b3dbfd;\n",
              "  --sklearn-color-fitted-level-3: cornflowerblue;\n",
              "\n",
              "  /* Specific color for light theme */\n",
              "  --sklearn-color-text-on-default-background: var(--sg-text-color, var(--theme-code-foreground, var(--jp-content-font-color1, black)));\n",
              "  --sklearn-color-background: var(--sg-background-color, var(--theme-background, var(--jp-layout-color0, white)));\n",
              "  --sklearn-color-border-box: var(--sg-text-color, var(--theme-code-foreground, var(--jp-content-font-color1, black)));\n",
              "  --sklearn-color-icon: #696969;\n",
              "\n",
              "  @media (prefers-color-scheme: dark) {\n",
              "    /* Redefinition of color scheme for dark theme */\n",
              "    --sklearn-color-text-on-default-background: var(--sg-text-color, var(--theme-code-foreground, var(--jp-content-font-color1, white)));\n",
              "    --sklearn-color-background: var(--sg-background-color, var(--theme-background, var(--jp-layout-color0, #111)));\n",
              "    --sklearn-color-border-box: var(--sg-text-color, var(--theme-code-foreground, var(--jp-content-font-color1, white)));\n",
              "    --sklearn-color-icon: #878787;\n",
              "  }\n",
              "}\n",
              "\n",
              "#sk-container-id-2 {\n",
              "  color: var(--sklearn-color-text);\n",
              "}\n",
              "\n",
              "#sk-container-id-2 pre {\n",
              "  padding: 0;\n",
              "}\n",
              "\n",
              "#sk-container-id-2 input.sk-hidden--visually {\n",
              "  border: 0;\n",
              "  clip: rect(1px 1px 1px 1px);\n",
              "  clip: rect(1px, 1px, 1px, 1px);\n",
              "  height: 1px;\n",
              "  margin: -1px;\n",
              "  overflow: hidden;\n",
              "  padding: 0;\n",
              "  position: absolute;\n",
              "  width: 1px;\n",
              "}\n",
              "\n",
              "#sk-container-id-2 div.sk-dashed-wrapped {\n",
              "  border: 1px dashed var(--sklearn-color-line);\n",
              "  margin: 0 0.4em 0.5em 0.4em;\n",
              "  box-sizing: border-box;\n",
              "  padding-bottom: 0.4em;\n",
              "  background-color: var(--sklearn-color-background);\n",
              "}\n",
              "\n",
              "#sk-container-id-2 div.sk-container {\n",
              "  /* jupyter's `normalize.less` sets `[hidden] { display: none; }`\n",
              "     but bootstrap.min.css set `[hidden] { display: none !important; }`\n",
              "     so we also need the `!important` here to be able to override the\n",
              "     default hidden behavior on the sphinx rendered scikit-learn.org.\n",
              "     See: https://github.com/scikit-learn/scikit-learn/issues/21755 */\n",
              "  display: inline-block !important;\n",
              "  position: relative;\n",
              "}\n",
              "\n",
              "#sk-container-id-2 div.sk-text-repr-fallback {\n",
              "  display: none;\n",
              "}\n",
              "\n",
              "div.sk-parallel-item,\n",
              "div.sk-serial,\n",
              "div.sk-item {\n",
              "  /* draw centered vertical line to link estimators */\n",
              "  background-image: linear-gradient(var(--sklearn-color-text-on-default-background), var(--sklearn-color-text-on-default-background));\n",
              "  background-size: 2px 100%;\n",
              "  background-repeat: no-repeat;\n",
              "  background-position: center center;\n",
              "}\n",
              "\n",
              "/* Parallel-specific style estimator block */\n",
              "\n",
              "#sk-container-id-2 div.sk-parallel-item::after {\n",
              "  content: \"\";\n",
              "  width: 100%;\n",
              "  border-bottom: 2px solid var(--sklearn-color-text-on-default-background);\n",
              "  flex-grow: 1;\n",
              "}\n",
              "\n",
              "#sk-container-id-2 div.sk-parallel {\n",
              "  display: flex;\n",
              "  align-items: stretch;\n",
              "  justify-content: center;\n",
              "  background-color: var(--sklearn-color-background);\n",
              "  position: relative;\n",
              "}\n",
              "\n",
              "#sk-container-id-2 div.sk-parallel-item {\n",
              "  display: flex;\n",
              "  flex-direction: column;\n",
              "}\n",
              "\n",
              "#sk-container-id-2 div.sk-parallel-item:first-child::after {\n",
              "  align-self: flex-end;\n",
              "  width: 50%;\n",
              "}\n",
              "\n",
              "#sk-container-id-2 div.sk-parallel-item:last-child::after {\n",
              "  align-self: flex-start;\n",
              "  width: 50%;\n",
              "}\n",
              "\n",
              "#sk-container-id-2 div.sk-parallel-item:only-child::after {\n",
              "  width: 0;\n",
              "}\n",
              "\n",
              "/* Serial-specific style estimator block */\n",
              "\n",
              "#sk-container-id-2 div.sk-serial {\n",
              "  display: flex;\n",
              "  flex-direction: column;\n",
              "  align-items: center;\n",
              "  background-color: var(--sklearn-color-background);\n",
              "  padding-right: 1em;\n",
              "  padding-left: 1em;\n",
              "}\n",
              "\n",
              "\n",
              "/* Toggleable style: style used for estimator/Pipeline/ColumnTransformer box that is\n",
              "clickable and can be expanded/collapsed.\n",
              "- Pipeline and ColumnTransformer use this feature and define the default style\n",
              "- Estimators will overwrite some part of the style using the `sk-estimator` class\n",
              "*/\n",
              "\n",
              "/* Pipeline and ColumnTransformer style (default) */\n",
              "\n",
              "#sk-container-id-2 div.sk-toggleable {\n",
              "  /* Default theme specific background. It is overwritten whether we have a\n",
              "  specific estimator or a Pipeline/ColumnTransformer */\n",
              "  background-color: var(--sklearn-color-background);\n",
              "}\n",
              "\n",
              "/* Toggleable label */\n",
              "#sk-container-id-2 label.sk-toggleable__label {\n",
              "  cursor: pointer;\n",
              "  display: block;\n",
              "  width: 100%;\n",
              "  margin-bottom: 0;\n",
              "  padding: 0.5em;\n",
              "  box-sizing: border-box;\n",
              "  text-align: center;\n",
              "}\n",
              "\n",
              "#sk-container-id-2 label.sk-toggleable__label-arrow:before {\n",
              "  /* Arrow on the left of the label */\n",
              "  content: \"▸\";\n",
              "  float: left;\n",
              "  margin-right: 0.25em;\n",
              "  color: var(--sklearn-color-icon);\n",
              "}\n",
              "\n",
              "#sk-container-id-2 label.sk-toggleable__label-arrow:hover:before {\n",
              "  color: var(--sklearn-color-text);\n",
              "}\n",
              "\n",
              "/* Toggleable content - dropdown */\n",
              "\n",
              "#sk-container-id-2 div.sk-toggleable__content {\n",
              "  max-height: 0;\n",
              "  max-width: 0;\n",
              "  overflow: hidden;\n",
              "  text-align: left;\n",
              "  /* unfitted */\n",
              "  background-color: var(--sklearn-color-unfitted-level-0);\n",
              "}\n",
              "\n",
              "#sk-container-id-2 div.sk-toggleable__content.fitted {\n",
              "  /* fitted */\n",
              "  background-color: var(--sklearn-color-fitted-level-0);\n",
              "}\n",
              "\n",
              "#sk-container-id-2 div.sk-toggleable__content pre {\n",
              "  margin: 0.2em;\n",
              "  border-radius: 0.25em;\n",
              "  color: var(--sklearn-color-text);\n",
              "  /* unfitted */\n",
              "  background-color: var(--sklearn-color-unfitted-level-0);\n",
              "}\n",
              "\n",
              "#sk-container-id-2 div.sk-toggleable__content.fitted pre {\n",
              "  /* unfitted */\n",
              "  background-color: var(--sklearn-color-fitted-level-0);\n",
              "}\n",
              "\n",
              "#sk-container-id-2 input.sk-toggleable__control:checked~div.sk-toggleable__content {\n",
              "  /* Expand drop-down */\n",
              "  max-height: 200px;\n",
              "  max-width: 100%;\n",
              "  overflow: auto;\n",
              "}\n",
              "\n",
              "#sk-container-id-2 input.sk-toggleable__control:checked~label.sk-toggleable__label-arrow:before {\n",
              "  content: \"▾\";\n",
              "}\n",
              "\n",
              "/* Pipeline/ColumnTransformer-specific style */\n",
              "\n",
              "#sk-container-id-2 div.sk-label input.sk-toggleable__control:checked~label.sk-toggleable__label {\n",
              "  color: var(--sklearn-color-text);\n",
              "  background-color: var(--sklearn-color-unfitted-level-2);\n",
              "}\n",
              "\n",
              "#sk-container-id-2 div.sk-label.fitted input.sk-toggleable__control:checked~label.sk-toggleable__label {\n",
              "  background-color: var(--sklearn-color-fitted-level-2);\n",
              "}\n",
              "\n",
              "/* Estimator-specific style */\n",
              "\n",
              "/* Colorize estimator box */\n",
              "#sk-container-id-2 div.sk-estimator input.sk-toggleable__control:checked~label.sk-toggleable__label {\n",
              "  /* unfitted */\n",
              "  background-color: var(--sklearn-color-unfitted-level-2);\n",
              "}\n",
              "\n",
              "#sk-container-id-2 div.sk-estimator.fitted input.sk-toggleable__control:checked~label.sk-toggleable__label {\n",
              "  /* fitted */\n",
              "  background-color: var(--sklearn-color-fitted-level-2);\n",
              "}\n",
              "\n",
              "#sk-container-id-2 div.sk-label label.sk-toggleable__label,\n",
              "#sk-container-id-2 div.sk-label label {\n",
              "  /* The background is the default theme color */\n",
              "  color: var(--sklearn-color-text-on-default-background);\n",
              "}\n",
              "\n",
              "/* On hover, darken the color of the background */\n",
              "#sk-container-id-2 div.sk-label:hover label.sk-toggleable__label {\n",
              "  color: var(--sklearn-color-text);\n",
              "  background-color: var(--sklearn-color-unfitted-level-2);\n",
              "}\n",
              "\n",
              "/* Label box, darken color on hover, fitted */\n",
              "#sk-container-id-2 div.sk-label.fitted:hover label.sk-toggleable__label.fitted {\n",
              "  color: var(--sklearn-color-text);\n",
              "  background-color: var(--sklearn-color-fitted-level-2);\n",
              "}\n",
              "\n",
              "/* Estimator label */\n",
              "\n",
              "#sk-container-id-2 div.sk-label label {\n",
              "  font-family: monospace;\n",
              "  font-weight: bold;\n",
              "  display: inline-block;\n",
              "  line-height: 1.2em;\n",
              "}\n",
              "\n",
              "#sk-container-id-2 div.sk-label-container {\n",
              "  text-align: center;\n",
              "}\n",
              "\n",
              "/* Estimator-specific */\n",
              "#sk-container-id-2 div.sk-estimator {\n",
              "  font-family: monospace;\n",
              "  border: 1px dotted var(--sklearn-color-border-box);\n",
              "  border-radius: 0.25em;\n",
              "  box-sizing: border-box;\n",
              "  margin-bottom: 0.5em;\n",
              "  /* unfitted */\n",
              "  background-color: var(--sklearn-color-unfitted-level-0);\n",
              "}\n",
              "\n",
              "#sk-container-id-2 div.sk-estimator.fitted {\n",
              "  /* fitted */\n",
              "  background-color: var(--sklearn-color-fitted-level-0);\n",
              "}\n",
              "\n",
              "/* on hover */\n",
              "#sk-container-id-2 div.sk-estimator:hover {\n",
              "  /* unfitted */\n",
              "  background-color: var(--sklearn-color-unfitted-level-2);\n",
              "}\n",
              "\n",
              "#sk-container-id-2 div.sk-estimator.fitted:hover {\n",
              "  /* fitted */\n",
              "  background-color: var(--sklearn-color-fitted-level-2);\n",
              "}\n",
              "\n",
              "/* Specification for estimator info (e.g. \"i\" and \"?\") */\n",
              "\n",
              "/* Common style for \"i\" and \"?\" */\n",
              "\n",
              ".sk-estimator-doc-link,\n",
              "a:link.sk-estimator-doc-link,\n",
              "a:visited.sk-estimator-doc-link {\n",
              "  float: right;\n",
              "  font-size: smaller;\n",
              "  line-height: 1em;\n",
              "  font-family: monospace;\n",
              "  background-color: var(--sklearn-color-background);\n",
              "  border-radius: 1em;\n",
              "  height: 1em;\n",
              "  width: 1em;\n",
              "  text-decoration: none !important;\n",
              "  margin-left: 1ex;\n",
              "  /* unfitted */\n",
              "  border: var(--sklearn-color-unfitted-level-1) 1pt solid;\n",
              "  color: var(--sklearn-color-unfitted-level-1);\n",
              "}\n",
              "\n",
              ".sk-estimator-doc-link.fitted,\n",
              "a:link.sk-estimator-doc-link.fitted,\n",
              "a:visited.sk-estimator-doc-link.fitted {\n",
              "  /* fitted */\n",
              "  border: var(--sklearn-color-fitted-level-1) 1pt solid;\n",
              "  color: var(--sklearn-color-fitted-level-1);\n",
              "}\n",
              "\n",
              "/* On hover */\n",
              "div.sk-estimator:hover .sk-estimator-doc-link:hover,\n",
              ".sk-estimator-doc-link:hover,\n",
              "div.sk-label-container:hover .sk-estimator-doc-link:hover,\n",
              ".sk-estimator-doc-link:hover {\n",
              "  /* unfitted */\n",
              "  background-color: var(--sklearn-color-unfitted-level-3);\n",
              "  color: var(--sklearn-color-background);\n",
              "  text-decoration: none;\n",
              "}\n",
              "\n",
              "div.sk-estimator.fitted:hover .sk-estimator-doc-link.fitted:hover,\n",
              ".sk-estimator-doc-link.fitted:hover,\n",
              "div.sk-label-container:hover .sk-estimator-doc-link.fitted:hover,\n",
              ".sk-estimator-doc-link.fitted:hover {\n",
              "  /* fitted */\n",
              "  background-color: var(--sklearn-color-fitted-level-3);\n",
              "  color: var(--sklearn-color-background);\n",
              "  text-decoration: none;\n",
              "}\n",
              "\n",
              "/* Span, style for the box shown on hovering the info icon */\n",
              ".sk-estimator-doc-link span {\n",
              "  display: none;\n",
              "  z-index: 9999;\n",
              "  position: relative;\n",
              "  font-weight: normal;\n",
              "  right: .2ex;\n",
              "  padding: .5ex;\n",
              "  margin: .5ex;\n",
              "  width: min-content;\n",
              "  min-width: 20ex;\n",
              "  max-width: 50ex;\n",
              "  color: var(--sklearn-color-text);\n",
              "  box-shadow: 2pt 2pt 4pt #999;\n",
              "  /* unfitted */\n",
              "  background: var(--sklearn-color-unfitted-level-0);\n",
              "  border: .5pt solid var(--sklearn-color-unfitted-level-3);\n",
              "}\n",
              "\n",
              ".sk-estimator-doc-link.fitted span {\n",
              "  /* fitted */\n",
              "  background: var(--sklearn-color-fitted-level-0);\n",
              "  border: var(--sklearn-color-fitted-level-3);\n",
              "}\n",
              "\n",
              ".sk-estimator-doc-link:hover span {\n",
              "  display: block;\n",
              "}\n",
              "\n",
              "/* \"?\"-specific style due to the `<a>` HTML tag */\n",
              "\n",
              "#sk-container-id-2 a.estimator_doc_link {\n",
              "  float: right;\n",
              "  font-size: 1rem;\n",
              "  line-height: 1em;\n",
              "  font-family: monospace;\n",
              "  background-color: var(--sklearn-color-background);\n",
              "  border-radius: 1rem;\n",
              "  height: 1rem;\n",
              "  width: 1rem;\n",
              "  text-decoration: none;\n",
              "  /* unfitted */\n",
              "  color: var(--sklearn-color-unfitted-level-1);\n",
              "  border: var(--sklearn-color-unfitted-level-1) 1pt solid;\n",
              "}\n",
              "\n",
              "#sk-container-id-2 a.estimator_doc_link.fitted {\n",
              "  /* fitted */\n",
              "  border: var(--sklearn-color-fitted-level-1) 1pt solid;\n",
              "  color: var(--sklearn-color-fitted-level-1);\n",
              "}\n",
              "\n",
              "/* On hover */\n",
              "#sk-container-id-2 a.estimator_doc_link:hover {\n",
              "  /* unfitted */\n",
              "  background-color: var(--sklearn-color-unfitted-level-3);\n",
              "  color: var(--sklearn-color-background);\n",
              "  text-decoration: none;\n",
              "}\n",
              "\n",
              "#sk-container-id-2 a.estimator_doc_link.fitted:hover {\n",
              "  /* fitted */\n",
              "  background-color: var(--sklearn-color-fitted-level-3);\n",
              "}\n",
              "</style><div id=\"sk-container-id-2\" class=\"sk-top-container\"><div class=\"sk-text-repr-fallback\"><pre>RandomForestClassifier(class_weight=&#x27;balanced&#x27;)</pre><b>In a Jupyter environment, please rerun this cell to show the HTML representation or trust the notebook. <br />On GitHub, the HTML representation is unable to render, please try loading this page with nbviewer.org.</b></div><div class=\"sk-container\" hidden><div class=\"sk-item\"><div class=\"sk-estimator fitted sk-toggleable\"><input class=\"sk-toggleable__control sk-hidden--visually\" id=\"sk-estimator-id-2\" type=\"checkbox\" checked><label for=\"sk-estimator-id-2\" class=\"sk-toggleable__label fitted sk-toggleable__label-arrow fitted\">&nbsp;&nbsp;RandomForestClassifier<a class=\"sk-estimator-doc-link fitted\" rel=\"noreferrer\" target=\"_blank\" href=\"https://scikit-learn.org/1.5/modules/generated/sklearn.ensemble.RandomForestClassifier.html\">?<span>Documentation for RandomForestClassifier</span></a><span class=\"sk-estimator-doc-link fitted\">i<span>Fitted</span></span></label><div class=\"sk-toggleable__content fitted\"><pre>RandomForestClassifier(class_weight=&#x27;balanced&#x27;)</pre></div> </div></div></div></div>"
            ],
            "text/plain": [
              "RandomForestClassifier(class_weight='balanced')"
            ]
          },
          "execution_count": 719,
          "metadata": {},
          "output_type": "execute_result"
        }
      ],
      "source": [
        "best_model_rf"
      ]
    },
    {
      "cell_type": "markdown",
      "metadata": {},
      "source": [
        "Menggunakan f1 yang lebih tepat untuk scoring imbalance class data, didapatkan nilai yang lebih besar dari recall sebelumnya."
      ]
    },
    {
      "cell_type": "markdown",
      "metadata": {},
      "source": [
        "# Model Evaluation"
      ]
    },
    {
      "cell_type": "markdown",
      "metadata": {},
      "source": [
        "## Best Model Perform"
      ]
    },
    {
      "cell_type": "code",
      "execution_count": 725,
      "metadata": {},
      "outputs": [
        {
          "name": "stdout",
          "output_type": "stream",
          "text": [
            "              precision    recall  f1-score   support\n",
            "\n",
            "           0       0.99      0.87      0.92      3977\n",
            "           1       0.03      0.28      0.05        54\n",
            "\n",
            "    accuracy                           0.86      4031\n",
            "   macro avg       0.51      0.57      0.49      4031\n",
            "weighted avg       0.98      0.86      0.91      4031\n",
            "\n"
          ]
        }
      ],
      "source": [
        "y_test_pred = best_model_rf.predict(X_test)\n",
        "\n",
        "print(classification_report(y_test, y_test_pred))"
      ]
    },
    {
      "cell_type": "code",
      "execution_count": 732,
      "metadata": {},
      "outputs": [
        {
          "name": "stdout",
          "output_type": "stream",
          "text": [
            "Accuracy: 0.8608, Recall: 0.2778\n"
          ]
        }
      ],
      "source": [
        "accuracy_test = accuracy_score(y_test, y_test_pred)\n",
        "recall_test = recall_score(y_test, y_test_pred)\n",
        "\n",
        "print(f\"Accuracy: {accuracy_test:.4f}, Recall: {recall_test:.4f}\")"
      ]
    },
    {
      "cell_type": "markdown",
      "metadata": {},
      "source": [
        "## Conclusion"
      ]
    },
    {
      "cell_type": "code",
      "execution_count": 726,
      "metadata": {},
      "outputs": [
        {
          "data": {
            "image/png": "[encoded data removed]",
            "text/plain": [
              "<Figure size 640x480 with 2 Axes>"
            ]
          },
          "metadata": {},
          "output_type": "display_data"
        }
      ],
      "source": [
        "from sklearn.metrics import confusion_matrix, ConfusionMatrixDisplay, accuracy_score, recall_score\n",
        "import matplotlib.pyplot as plt\n",
        "\n",
        "cm = confusion_matrix(y_test, y_test_pred)\n",
        "disp = ConfusionMatrixDisplay(confusion_matrix=cm)\n",
        "disp.plot()\n",
        "plt.title(\"Dummy Classifier Confusion Matrix (Validation Data)\")\n",
        "plt.show()"
      ]
    },
    {
      "cell_type": "markdown",
      "metadata": {},
      "source": [
        "Dari grafik yang diperlihatkan, model dapat memprediksi dengan tepat 15 applicant yang hired sehingga setelah dilakukan sorting data dengan predicted is_hired = 1 HR dapat memprediksi 15 hired karyawan yg benar dari 537 data yang pertama kali diseleksi."
      ]
    },
    {
      "cell_type": "code",
      "execution_count": 729,
      "metadata": {},
      "outputs": [
        {
          "data": {
            "image/png": "[encoded data removed]",
            "text/plain": [
              "<Figure size 1000x800 with 2 Axes>"
            ]
          },
          "metadata": {},
          "output_type": "display_data"
        }
      ],
      "source": [
        "# Hitung korelasi Pearson untuk fitur numerik\n",
        "correlations = cleaned_data[['age', 'match_percentage', 'experience', 'gpa', 'expected_salary', 'is_hired']].corr()\n",
        "\n",
        "# Buat heatmap menggunakan seaborn\n",
        "plt.figure(figsize=(10, 8))\n",
        "sns.heatmap(correlations, annot=True, cmap='coolwarm', center=0)\n",
        "plt.title('Heatmap of Feature Correlations')\n",
        "plt.show()"
      ]
    }
  ],
  "metadata": {
    "colab": {
      "provenance": [],
      "toc_visible": true
    },
    "kernelspec": {
      "display_name": "Python 3",
      "name": "python3"
    },
    "language_info": {
      "codemirror_mode": {
        "name": "ipython",
        "version": 3
      },
      "file_extension": ".py",
      "mimetype": "text/x-python",
      "name": "python",
      "nbconvert_exporter": "python",
      "pygments_lexer": "ipython3",
      "version": "3.12.0"
    }
  },
  "nbformat": 4,
  "nbformat_minor": 0
}
